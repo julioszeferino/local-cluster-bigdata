{
 "cells": [
  {
   "cell_type": "code",
   "execution_count": 1,
   "id": "bb293bac-4bec-4d8e-a1b8-444bf678cdb0",
   "metadata": {},
   "outputs": [],
   "source": [
    "from utils.sessao_spark_hive import sessao_spark"
   ]
  },
  {
   "cell_type": "code",
   "execution_count": 2,
   "id": "f9fc2120-89c3-4436-81c0-0983f39bab4d",
   "metadata": {},
   "outputs": [],
   "source": [
    "spark = sessao_spark(\"meuApp\")"
   ]
  },
  {
   "cell_type": "code",
   "execution_count": 3,
   "id": "bca8bc1d-c1af-484a-928c-8ef7792f7f6b",
   "metadata": {},
   "outputs": [
    {
     "name": "stdout",
     "output_type": "stream",
     "text": [
      "+---------+\n",
      "|namespace|\n",
      "+---------+\n",
      "|   bronze|\n",
      "|  default|\n",
      "|     gold|\n",
      "|   silver|\n",
      "+---------+\n",
      "\n"
     ]
    }
   ],
   "source": [
    "spark.sql(\"SHOW DATABASES;\").show()"
   ]
  },
  {
   "cell_type": "code",
   "execution_count": 4,
   "id": "a136b105-afd6-4045-9a2d-7e23430e084a",
   "metadata": {},
   "outputs": [
    {
     "name": "stdout",
     "output_type": "stream",
     "text": [
      "+----+---------+\n",
      "|  id|indicador|\n",
      "+----+---------+\n",
      "|A001|     10.5|\n",
      "|A001|     10.5|\n",
      "|A002|    20.75|\n",
      "|A002|    20.75|\n",
      "|A003|     NULL|\n",
      "|A003|     NULL|\n",
      "+----+---------+\n",
      "\n"
     ]
    }
   ],
   "source": [
    "spark.sql('SELECT * FROM bronze.indicadores').show()"
   ]
  },
  {
   "cell_type": "code",
   "execution_count": null,
   "id": "373e76e7-e7e3-4d79-b419-fafa975cb654",
   "metadata": {},
   "outputs": [],
   "source": [
    "spark.sql(\"\"\"\n",
    "INSERT INTO bronze.indicadores (id, indicador)\n",
    "VALUES \n",
    "    ('A001', 10.5),\n",
    "    ('A002', 20.75),\n",
    "    ('A003', NULL);\n",
    "\"\"\")"
   ]
  },
  {
   "cell_type": "code",
   "execution_count": null,
   "id": "29a0c4c4-eb73-4bec-b054-8ecea4ad9cd5",
   "metadata": {},
   "outputs": [],
   "source": [
    "spark.sql('SELECT * FROM bronze.indicadores').show()"
   ]
  },
  {
   "cell_type": "code",
   "execution_count": null,
   "id": "0e09a29e-4818-477d-bc2a-87addeef4f1c",
   "metadata": {},
   "outputs": [],
   "source": []
  }
 ],
 "metadata": {
  "kernelspec": {
   "display_name": "Python 3 (ipykernel)",
   "language": "python",
   "name": "python3"
  },
  "language_info": {
   "codemirror_mode": {
    "name": "ipython",
    "version": 3
   },
   "file_extension": ".py",
   "mimetype": "text/x-python",
   "name": "python",
   "nbconvert_exporter": "python",
   "pygments_lexer": "ipython3",
   "version": "3.11.6"
  }
 },
 "nbformat": 4,
 "nbformat_minor": 5
}
