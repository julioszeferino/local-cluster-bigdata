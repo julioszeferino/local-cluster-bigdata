{
 "cells": [
  {
   "cell_type": "code",
   "execution_count": 61,
   "id": "b5c4ba3e-3f56-4e02-8b67-b68a360ba4ec",
   "metadata": {},
   "outputs": [],
   "source": [
    "from utils.sessao_spark import sessao_spark\n",
    "import pyspark.pandas as ps"
   ]
  },
  {
   "cell_type": "code",
   "execution_count": 62,
   "id": "fa00ccfd-e16e-4e0a-9688-7ea7b1e57422",
   "metadata": {},
   "outputs": [],
   "source": [
    "spark = sessao_spark(\"convert-json-to-parquet\")"
   ]
  },
  {
   "cell_type": "code",
   "execution_count": 63,
   "id": "57afaf95-689f-4eb6-9f6a-76bd98d259a2",
   "metadata": {},
   "outputs": [],
   "source": [
    "# minio_bucket = \"production/landing\"\n",
    "# arquivo = \"yelp/business/business\"\n",
    "# tamanho_arquivo_mb = 134 \n",
    "\n",
    "\n",
    "# minio_bucket = \"production/landing\"\n",
    "# arquivo = \"yelp/checkin/checkin\"\n",
    "# tamanho_arquivo_mb = 274 \n",
    "\n",
    "# minio_bucket = \"production/landing\"\n",
    "# arquivo = \"yelp/tip/tip\"\n",
    "# tamanho_arquivo_mb = 172\n",
    "\n",
    "# minio_bucket = \"production/landing\"\n",
    "# arquivo = \"yelp/user/user\"\n",
    "# tamanho_arquivo_mb = 3000 \n",
    "\n",
    "minio_bucket = \"production/landing\"\n",
    "arquivo = \"yelp/review/review\"\n",
    "tamanho_arquivo_mb = 5000 "
   ]
  },
  {
   "cell_type": "code",
   "execution_count": 64,
   "id": "8a02c8a3-ea60-4db7-a231-7a7828506238",
   "metadata": {},
   "outputs": [
    {
     "name": "stdout",
     "output_type": "stream",
     "text": [
      "3.5.0\n"
     ]
    }
   ],
   "source": [
    "print(spark.version)"
   ]
  },
  {
   "cell_type": "code",
   "execution_count": 65,
   "id": "38f99dbc-3056-4ff8-a4b1-d5fed0c05d2b",
   "metadata": {},
   "outputs": [],
   "source": [
    "df = spark.read.json(f\"s3a://{minio_bucket}/{arquivo}.json\")"
   ]
  },
  {
   "cell_type": "code",
   "execution_count": 66,
   "id": "5aaa657e-4640-493a-94d0-90c01ce9a261",
   "metadata": {},
   "outputs": [
    {
     "name": "stderr",
     "output_type": "stream",
     "text": [
      "/usr/local/spark/python/pyspark/sql/dataframe.py:5719: FutureWarning: DataFrame.to_pandas_on_spark is deprecated. Use DataFrame.pandas_api instead.\n",
      "  warnings.warn(\n"
     ]
    },
    {
     "data": {
      "text/html": [
       "<div>\n",
       "<style scoped>\n",
       "    .dataframe tbody tr th:only-of-type {\n",
       "        vertical-align: middle;\n",
       "    }\n",
       "\n",
       "    .dataframe tbody tr th {\n",
       "        vertical-align: top;\n",
       "    }\n",
       "\n",
       "    .dataframe thead th {\n",
       "        text-align: right;\n",
       "    }\n",
       "</style>\n",
       "<table border=\"1\" class=\"dataframe\">\n",
       "  <thead>\n",
       "    <tr style=\"text-align: right;\">\n",
       "      <th></th>\n",
       "      <th>business_id</th>\n",
       "      <th>cool</th>\n",
       "      <th>date</th>\n",
       "      <th>funny</th>\n",
       "      <th>review_id</th>\n",
       "      <th>stars</th>\n",
       "      <th>text</th>\n",
       "      <th>useful</th>\n",
       "      <th>user_id</th>\n",
       "    </tr>\n",
       "  </thead>\n",
       "  <tbody>\n",
       "    <tr>\n",
       "      <th>0</th>\n",
       "      <td>XQfwVwDr-v0ZS3_CbbE5Xw</td>\n",
       "      <td>0</td>\n",
       "      <td>2018-07-07 22:09:11</td>\n",
       "      <td>0</td>\n",
       "      <td>KU_O5udG6zpxOg-VcAEodg</td>\n",
       "      <td>3.0</td>\n",
       "      <td>If you decide to eat here, just be aware it is...</td>\n",
       "      <td>0</td>\n",
       "      <td>mh_-eMZ6K5RLWhZyISBhwA</td>\n",
       "    </tr>\n",
       "    <tr>\n",
       "      <th>1</th>\n",
       "      <td>7ATYjTIgM3jUlt4UM3IypQ</td>\n",
       "      <td>1</td>\n",
       "      <td>2012-01-03 15:28:18</td>\n",
       "      <td>0</td>\n",
       "      <td>BiTunyQ73aT9WBnpR9DZGw</td>\n",
       "      <td>5.0</td>\n",
       "      <td>I've taken a lot of spin classes over the year...</td>\n",
       "      <td>1</td>\n",
       "      <td>OyoGAe7OKpv6SyGZT5g77Q</td>\n",
       "    </tr>\n",
       "    <tr>\n",
       "      <th>2</th>\n",
       "      <td>YjUWPpI6HXG530lwP-fb2A</td>\n",
       "      <td>0</td>\n",
       "      <td>2014-02-05 20:30:30</td>\n",
       "      <td>0</td>\n",
       "      <td>saUsX_uimxRlCVr67Z4Jig</td>\n",
       "      <td>3.0</td>\n",
       "      <td>Family diner. Had the buffet. Eclectic assortm...</td>\n",
       "      <td>0</td>\n",
       "      <td>8g_iMtfSiwikVnbP2etR0A</td>\n",
       "    </tr>\n",
       "    <tr>\n",
       "      <th>3</th>\n",
       "      <td>kxX2SOes4o-D3ZQBkiMRfA</td>\n",
       "      <td>1</td>\n",
       "      <td>2015-01-04 00:01:03</td>\n",
       "      <td>0</td>\n",
       "      <td>AqPFMleE6RsU23_auESxiA</td>\n",
       "      <td>5.0</td>\n",
       "      <td>Wow!  Yummy, different,  delicious.   Our favo...</td>\n",
       "      <td>1</td>\n",
       "      <td>_7bHUi9Uuf5__HHc_Q8guQ</td>\n",
       "    </tr>\n",
       "    <tr>\n",
       "      <th>4</th>\n",
       "      <td>e4Vwtrqf-wpJfwesgvdgxQ</td>\n",
       "      <td>1</td>\n",
       "      <td>2017-01-14 20:54:15</td>\n",
       "      <td>0</td>\n",
       "      <td>Sx8TMOWLNuJBWer-0pcmoA</td>\n",
       "      <td>4.0</td>\n",
       "      <td>Cute interior and owner (?) gave us tour of up...</td>\n",
       "      <td>1</td>\n",
       "      <td>bcjbaE6dDog4jkNY91ncLQ</td>\n",
       "    </tr>\n",
       "  </tbody>\n",
       "</table>\n",
       "</div>"
      ],
      "text/plain": [
       "              business_id  cool                 date  funny               review_id  stars                                                                                                                                                                                                                                                                                                                                                                                                                                                                                                                                                                                                                                                                                                                                                                                                                                                               text  useful                 user_id\n",
       "0  XQfwVwDr-v0ZS3_CbbE5Xw     0  2018-07-07 22:09:11      0  KU_O5udG6zpxOg-VcAEodg    3.0                                                                                                                                                                                                                                                                                                                                If you decide to eat here, just be aware it is going to take about 2 hours from beginning to end. We have tried it multiple times, because I want to like it! I have been to it's other locations in NJ and never had a bad experience. \\n\\nThe food is good, but it takes a very long time to come out. The waitstaff is very young, but usually pleasant. We have just had too many experiences where we spent way too long waiting. We usually opt for another diner or restaurant on the weekends, in order to be done quicker.       0  mh_-eMZ6K5RLWhZyISBhwA\n",
       "1  7ATYjTIgM3jUlt4UM3IypQ     1  2012-01-03 15:28:18      0  BiTunyQ73aT9WBnpR9DZGw    5.0  I've taken a lot of spin classes over the years, and nothing compares to the classes at Body Cycle. From the nice, clean space and amazing bikes, to the welcoming and motivating instructors, every class is a top notch work out.\\n\\nFor anyone who struggles to fit workouts in, the online scheduling system makes it easy to plan ahead (and there's no need to line up way in advanced like many gyms make you do).\\n\\nThere is no way I can write this review without giving Russell, the owner of Body Cycle, a shout out. Russell's passion for fitness and cycling is so evident, as is his desire for all of his clients to succeed. He is always dropping in to classes to check in/provide encouragement, and is open to ideas and recommendations from anyone. Russell always wears a smile on his face, even when he's kicking your butt in class!       1  OyoGAe7OKpv6SyGZT5g77Q\n",
       "2  YjUWPpI6HXG530lwP-fb2A     0  2014-02-05 20:30:30      0  saUsX_uimxRlCVr67Z4Jig    3.0                                                                                                                                                                                                                                                                                                                                                                                                                                                                                                                Family diner. Had the buffet. Eclectic assortment: a large chicken leg, fried jalapeño, tamale, two rolled grape leaves, fresh melon. All good. Lots of Mexican choices there. Also has a menu with breakfast served all day long. Friendly, attentive staff. Good place for a casual relaxed meal with no expectations. Next to the Clarion Hotel.       0  8g_iMtfSiwikVnbP2etR0A\n",
       "3  kxX2SOes4o-D3ZQBkiMRfA     1  2015-01-04 00:01:03      0  AqPFMleE6RsU23_auESxiA    5.0                                                                                                                                                                                                                                                                                                                                                                                                                                                                                                                                                                                                                Wow!  Yummy, different,  delicious.   Our favorite is the lamb curry and korma.  With 10 different kinds of naan!!!  Don't let the outside deter you (because we almost changed our minds)...go in and try something new!   You'll be glad you did!       1  _7bHUi9Uuf5__HHc_Q8guQ\n",
       "4  e4Vwtrqf-wpJfwesgvdgxQ     1  2017-01-14 20:54:15      0  Sx8TMOWLNuJBWer-0pcmoA    4.0                                                                                                                                                                                                                                                                                                             Cute interior and owner (?) gave us tour of upcoming patio/rooftop area which will be great on beautiful days like today. Cheese curds were very good and very filling. Really like that sandwiches come w salad, esp after eating too many curds! Had the onion, gruyere, tomato sandwich. Wasn't too much cheese which I liked. Needed something else...pepper jelly maybe. Would like to see more menu options added such as salads w fun cheeses. Lots of beer and wine as well as limited cocktails. Next time I will try one of the draft wines.       1  bcjbaE6dDog4jkNY91ncLQ"
      ]
     },
     "execution_count": 66,
     "metadata": {},
     "output_type": "execute_result"
    }
   ],
   "source": [
    "df_pandas = df.to_pandas_on_spark()\n",
    "df_pandas.head()"
   ]
  },
  {
   "cell_type": "code",
   "execution_count": 67,
   "id": "03cb926d-e626-48c8-a4f4-8a92a215d398",
   "metadata": {},
   "outputs": [],
   "source": [
    "particoes = int(round(tamanho_arquivo_mb / 128, 0))\n",
    "df = df.repartition(particoes)"
   ]
  },
  {
   "cell_type": "code",
   "execution_count": 68,
   "id": "70ca6734-7e95-482d-a3ee-75a782bb7694",
   "metadata": {},
   "outputs": [
    {
     "name": "stdout",
     "output_type": "stream",
     "text": [
      "s3a://production/landing/parquet/yelp/review/review\n"
     ]
    }
   ],
   "source": [
    "# Se você já tem um DataFrame 'df' carrega\n",
    "print(f\"s3a://{minio_bucket}/parquet/{arquivo}\")\n",
    "(df.write\n",
    "   .mode(\"overwrite\")   \n",
    "   .parquet(f\"s3a://{minio_bucket}/parquet/{arquivo}\")\n",
    ")"
   ]
  },
  {
   "cell_type": "code",
   "execution_count": 69,
   "id": "71b887ba-cd6f-4458-a3d6-0e724734bd92",
   "metadata": {},
   "outputs": [],
   "source": [
    "spark.stop()"
   ]
  },
  {
   "cell_type": "code",
   "execution_count": null,
   "id": "a74bd325-536b-4010-a6ed-de262b6b3033",
   "metadata": {},
   "outputs": [],
   "source": []
  },
  {
   "cell_type": "code",
   "execution_count": null,
   "id": "8a251bc0-3110-4b43-b2da-9044ceb69fae",
   "metadata": {},
   "outputs": [],
   "source": []
  }
 ],
 "metadata": {
  "kernelspec": {
   "display_name": "Python 3 (ipykernel)",
   "language": "python",
   "name": "python3"
  },
  "language_info": {
   "codemirror_mode": {
    "name": "ipython",
    "version": 3
   },
   "file_extension": ".py",
   "mimetype": "text/x-python",
   "name": "python",
   "nbconvert_exporter": "python",
   "pygments_lexer": "ipython3",
   "version": "3.11.6"
  },
  "widgets": {
   "application/vnd.jupyter.widget-state+json": {
    "state": {},
    "version_major": 2,
    "version_minor": 0
   }
  }
 },
 "nbformat": 4,
 "nbformat_minor": 5
}
