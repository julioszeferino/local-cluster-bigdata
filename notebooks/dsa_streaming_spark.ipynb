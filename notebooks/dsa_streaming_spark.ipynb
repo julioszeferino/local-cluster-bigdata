{
 "cells": [
  {
   "cell_type": "code",
   "execution_count": null,
   "id": "f6bb75f9-c4e8-4692-b5dd-79081c1c9c4a",
   "metadata": {},
   "outputs": [],
   "source": [
    "import os\n",
    "\n",
    "from pyspark import SparkConf\n",
    "from pyspark.sql import SparkSession\n",
    "from delta.tables import DeltaTable\n",
    "from pyspark.sql.functions import col, to_json, lit, collect_list, size, avg\n",
    "\n",
    "import logging\n",
    "import os"
   ]
  },
  {
   "cell_type": "code",
   "execution_count": null,
   "id": "66fbe9a8-a54c-41a6-b127-d8b6d62b86de",
   "metadata": {},
   "outputs": [],
   "source": [
    "# configura os logs\n",
    "LEVEL = os.getenv(\"LOG_LEVEL\", \"INFO\").upper()\n",
    "\n",
    "def setup_logger():\n",
    "    \"\"\"\n",
    "    Configura o logger para o formato desejado.\n",
    "    \"\"\"\n",
    "    logging.basicConfig(\n",
    "        format='%(asctime)s - %(name)s - %(levelname)s - %(message)s',\n",
    "        level=logging.INFO,\n",
    "        datefmt='%Y-%m-%d %H:%M:%S'\n",
    "    )\n",
    "\n",
    "    logger = logging.getLogger(__name__)\n",
    "    \n",
    "    return logger"
   ]
  },
  {
   "cell_type": "code",
   "execution_count": null,
   "id": "d7219be1-7ed3-4807-87b4-f363ff053248",
   "metadata": {},
   "outputs": [],
   "source": [
    "# configura sessao spark\n",
    "def sessao_spark(app_name):\n",
    "\n",
    "    minio_endpoint = \"http://minio:9000\"\n",
    "    minio_access_key = \"lakehouse\"\n",
    "    minio_secret_key = \"2fUDaiyqNFhoMmgYuXjO4d24fchviXQjM2TWTgUe\"\n",
    "\n",
    "    # Lista todos os JARs na pasta\n",
    "    jars_dir = \"./jars\"\n",
    "    jars = [os.path.join(jars_dir, jar) for jar in os.listdir(jars_dir) if jar.endswith(\".jar\")]\n",
    "    jars_str = \",\".join(jars)\n",
    "    \n",
    "    # Configuração do Spark\n",
    "    spark = (\n",
    "        SparkSession \n",
    "        .builder \n",
    "        .appName(f\"{app_name}\") \n",
    "        .master(\"spark://spark-master:7077\") \n",
    "        .config(\"spark.jars\", jars_str)\n",
    "        .config(\"spark.executor.memory\", \"3g\") \n",
    "        .config(\"spark.executor.cores\", \"2\")\n",
    "        .config(\"spark.sql.files.maxPartitionBytes\", \"134217728\")\n",
    "        .config(\"spark.hadoop.fs.s3a.endpoint\", minio_endpoint) \n",
    "        .config(\"spark.hadoop.fs.s3a.access.key\", minio_access_key) \n",
    "        .config(\"spark.hadoop.fs.s3a.secret.key\", minio_secret_key) \n",
    "        .config(\"spark.hadoop.fs.s3a.multipart.size\", \"104857600\")\n",
    "        .config(\"spark.hadoop.fs.s3a.path.style.access\", \"true\") \n",
    "        .config(\"spark.hadoop.fs.s3a.fast.upload\", \"true\")\n",
    "        .config(\"spark.hadoop.fs.s3a.connection.maximum\", \"100\")\n",
    "        .config(\"spark.hadoop.fs.s3a.impl\", \"org.apache.hadoop.fs.s3a.S3AFileSystem\") \n",
    "        .config(\"spark.hadoop.fs.s3a.aws.credentials.provider\", \"org.apache.hadoop.fs.s3a.SimpleAWSCredentialsProvider\") \n",
    "        .config(\"spark.delta.logStore.class\", \"org.apache.spark.sql.delta.storage.S3SingleDriverLogStore\")\n",
    "        .config(\"spark.sql.extensions\", \"io.delta.sql.DeltaSparkSessionExtension\") \n",
    "        .config(\"spark.sql.catalog.spark_catalog\", \"org.apache.spark.sql.delta.catalog.DeltaCatalog\") \n",
    "        .getOrCreate()\n",
    "    )\n",
    "\n",
    "    return spark"
   ]
  },
  {
   "cell_type": "code",
   "execution_count": null,
   "id": "f08beabe-b5c2-41ed-b93c-f75bdfcdf60a",
   "metadata": {},
   "outputs": [],
   "source": [
    "# configs\n",
    "spark = sessao_spark('dsa-streaming')\n",
    "\n",
    "logger = setup_logger()\n",
    "logger.info(\"Iniciando o script.\")\n",
    "\n",
    "logger.info(spark)\n",
    "logger.info(f\"Configs: {SparkConf().getAll()}\")\n",
    "spark.sparkContext.setLogLevel(\"ERROR\")\n",
    "\n",
    "minio_bucket = f\"s3a://production/landing/dsa\""
   ]
  }
 ],
 "metadata": {
  "kernelspec": {
   "display_name": "Python 3 (ipykernel)",
   "language": "python",
   "name": "python3"
  },
  "language_info": {
   "codemirror_mode": {
    "name": "ipython",
    "version": 3
   },
   "file_extension": ".py",
   "mimetype": "text/x-python",
   "name": "python",
   "nbconvert_exporter": "python",
   "pygments_lexer": "ipython3",
   "version": "3.11.6"
  }
 },
 "nbformat": 4,
 "nbformat_minor": 5
}
